{
 "cells": [
  {
   "cell_type": "markdown",
   "id": "e60ee97a-3be7-4a05-b3ae-e1893582540e",
   "metadata": {},
   "source": [
    "Try, Except and Finally\n",
    "Finally and Else\n",
    "Raise Keyword\n"
   ]
  },
  {
   "cell_type": "code",
   "execution_count": 1,
   "id": "980b4ba6-99f1-4bcc-b9a7-b88a218d926b",
   "metadata": {},
   "outputs": [
    {
     "ename": "SyntaxError",
     "evalue": "expected ':' (3160737034.py, line 1)",
     "output_type": "error",
     "traceback": [
      "\u001b[1;36m  Cell \u001b[1;32mIn[1], line 1\u001b[1;36m\u001b[0m\n\u001b[1;33m    try\u001b[0m\n\u001b[1;37m       ^\u001b[0m\n\u001b[1;31mSyntaxError\u001b[0m\u001b[1;31m:\u001b[0m expected ':'\n"
     ]
    }
   ],
   "source": [
    "try\n",
    "    #risky code(may cause an error)\n",
    "except:\n",
    "    #what to do if that error occurs\n",
    "else:\n",
    "    # (optional) Runs only if no error happens\n",
    "finally:\n",
    "    # (optional) Always runs, no matter what\n",
    "    \n"
   ]
  },
  {
   "cell_type": "code",
   "execution_count": 19,
   "id": "c8bd6fef-a77f-47ab-a726-f741e18b9529",
   "metadata": {},
   "outputs": [
    {
     "name": "stdin",
     "output_type": "stream",
     "text": [
      "Enter a number:  5.6\n"
     ]
    },
    {
     "name": "stdout",
     "output_type": "stream",
     "text": [
      "please enter a valid number!\n",
      " Thanks for using this code \n"
     ]
    }
   ],
   "source": [
    "try:\n",
    "    x = int(input(\"Enter a number: \"))\n",
    "    y = 10 / x\n",
    "except ValueError:\n",
    "    print (\"please enter a valid number!\")\n",
    "except ZeroDivisionError:\n",
    "    print (\"You can't divide by zero!\")\n",
    "else:\n",
    "    print (\"Success! 10 divided by\", x, \"is\", y)\n",
    "finally:\n",
    "    print ( \" Thanks for using this code \")"
   ]
  },
  {
   "cell_type": "code",
   "execution_count": 15,
   "id": "f9c0b740-4c44-43d9-ba4f-a042deec7427",
   "metadata": {},
   "outputs": [
    {
     "name": "stdin",
     "output_type": "stream",
     "text": [
      "Enter a number:  6.0\n"
     ]
    },
    {
     "name": "stdout",
     "output_type": "stream",
     "text": [
      "Not a number!\n",
      "This is the end!\n"
     ]
    }
   ],
   "source": [
    "try:\n",
    "    num = int(input(\"Enter a number: \"))\n",
    "except ValueError:\n",
    "    print(\"Not a number!\") \n",
    "else:\n",
    "    print(\"you entered:\",num)\n",
    "finally:\n",
    "    print(\"This is the end!\")\n",
    "#if input is correct -> else runs\n",
    "#if input is wrong -> except runs, else is skipped"
   ]
  },
  {
   "cell_type": "code",
   "execution_count": 24,
   "id": "de44295e-f218-442d-903d-bc808f51610b",
   "metadata": {},
   "outputs": [
    {
     "name": "stdin",
     "output_type": "stream",
     "text": [
      "Guess a number between 1 and 5:  as\n"
     ]
    },
    {
     "name": "stdout",
     "output_type": "stream",
     "text": [
      "Please enter a valid number!\n",
      "Thanks for playing\n"
     ]
    }
   ],
   "source": [
    "#Number Guessing Game with Error Handling\n",
    "\n",
    "import random\n",
    "\n",
    "try:\n",
    "    guess = int(input(\"Guess a number between 1 and 5: \"))\n",
    "    number = random.randint(1,5)\n",
    "    if guess == number:\n",
    "        print(\"Correct!\")\n",
    "    else: \n",
    "        print(f\"wrong! The number was {number}\")\n",
    "except ValueError:\n",
    "    print(\"Please enter a valid number!\")\n",
    "finally:\n",
    "    print(\"Thanks for playing\")"
   ]
  },
  {
   "cell_type": "code",
   "execution_count": null,
   "id": "66f619d8-44f2-4d73-b405-129042a7f942",
   "metadata": {},
   "outputs": [],
   "source": [
    "#updated Version\n",
    "\n",
    "import random\n",
    "\n",
    "number = random.randint(1,5)\n",
    "attempts = 5\n",
    "score = 100\n",
    "penalty = 20 \n",
    "\n",
    "for i in range(attempts):\n",
    "    try:\n",
    "        guess = int(input(f\"Attempt {i+1}/5 - guess a number between 1 and 5: \"))\n",
    "        if guess == number:\n",
    "            print(\"Correct! You win!\")\n",
    "            print(\"you score:\", score)\n",
    "            break\n",
    "        else:\n",
    "            score -= penalty\n",
    "            print(\"Wrong guess. Score now is:\",score)\n",
    "    except ValueError:\n",
    "        print(\"Invalid Input. Please enter a number.\")\n",
    "        #do not pnalise for invalid input\n",
    "else:\n",
    "    print(f\" Game Over! The correct number was {number}.\")\n",
    "    print(\"Your Final Score:\", score)\n",
    "   "
   ]
  },
  {
   "cell_type": "code",
   "execution_count": null,
   "id": "79d3f495-ef3c-4191-b9f4-369a2eaba3cb",
   "metadata": {},
   "outputs": [],
   "source": []
  }
 ],
 "metadata": {
  "kernelspec": {
   "display_name": "Python 3 (ipykernel)",
   "language": "python",
   "name": "python3"
  },
  "language_info": {
   "codemirror_mode": {
    "name": "ipython",
    "version": 3
   },
   "file_extension": ".py",
   "mimetype": "text/x-python",
   "name": "python",
   "nbconvert_exporter": "python",
   "pygments_lexer": "ipython3",
   "version": "3.12.4"
  }
 },
 "nbformat": 4,
 "nbformat_minor": 5
}
